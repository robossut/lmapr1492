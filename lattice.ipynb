{
 "cells": [
  {
   "cell_type": "code",
   "execution_count": 1,
   "id": "c0787bbb",
   "metadata": {},
   "outputs": [],
   "source": [
    "from pymatgen.core import Lattice,Structure,Molecule\n",
    "from pymatgen.symmetry.analyzer import SpacegroupAnalyzer\n",
    "from pymatgen.ext.matproj import MPRester\n",
    "with MPRester(\"TSpOfnCNHrXI8ZzR\") as m:\n",
    "\n",
    "# Structure for material id\n",
    "    structure = m.get_structure_by_material_id(\"mp-5077\")\n",
    "    structure.to(filename=\"NaLi2Sb.cif\")\n",
    "    sga = SpacegroupAnalyzer(structure)"
   ]
  },
  {
   "cell_type": "code",
   "execution_count": 2,
   "id": "17d23a9e",
   "metadata": {},
   "outputs": [
    {
     "data": {
      "text/plain": [
       "Lattice\n",
       "    abc : 4.842084804015931 4.842084804015931 4.842084804015931\n",
       " angles : 59.99999999999999 59.99999999999999 59.99999999999999\n",
       " volume : 80.27534418724441\n",
       "      A : 0.0 3.423871 3.423871\n",
       "      B : 3.423871 0.0 3.423871\n",
       "      C : 3.423871 3.423871 0.0"
      ]
     },
     "execution_count": 2,
     "metadata": {},
     "output_type": "execute_result"
    }
   ],
   "source": [
    "#Vecteurs du réseau direct\n",
    "structure.lattice"
   ]
  },
  {
   "cell_type": "code",
   "execution_count": 3,
   "id": "0823e22c",
   "metadata": {},
   "outputs": [
    {
     "data": {
      "text/plain": [
       "Lattice\n",
       "    abc : 1.5892532436831448 1.5892532436831448 1.5892532436831448\n",
       " angles : 109.47122063449069 109.47122063449069 109.47122063449069\n",
       " volume : 3.089992524526767\n",
       "      A : -0.9175557880509496 0.9175557880509496 0.9175557880509496\n",
       "      B : 0.9175557880509496 -0.9175557880509496 0.9175557880509496\n",
       "      C : 0.9175557880509496 0.9175557880509496 -0.9175557880509496"
      ]
     },
     "execution_count": 3,
     "metadata": {},
     "output_type": "execute_result"
    }
   ],
   "source": [
    "#Vecteurs du réseau réciproque\n",
    "structure.lattice.reciprocal_lattice"
   ]
  },
  {
   "cell_type": "code",
   "execution_count": 4,
   "id": "9bfd6301",
   "metadata": {},
   "outputs": [
    {
     "data": {
      "text/plain": [
       "'cubic'"
      ]
     },
     "execution_count": 4,
     "metadata": {},
     "output_type": "execute_result"
    }
   ],
   "source": [
    "#type de maille\n",
    "sga.get_lattice_type()"
   ]
  },
  {
   "cell_type": "code",
   "execution_count": 5,
   "id": "62fb5dd7",
   "metadata": {},
   "outputs": [
    {
     "data": {
      "text/plain": [
       "'m-3m'"
      ]
     },
     "execution_count": 5,
     "metadata": {},
     "output_type": "execute_result"
    }
   ],
   "source": [
    "#groupe ponctuel\n",
    "sga.get_point_group_symbol()"
   ]
  },
  {
   "cell_type": "code",
   "execution_count": 6,
   "id": "56bd18f1",
   "metadata": {},
   "outputs": [
    {
     "data": {
      "text/plain": [
       "'cubic'"
      ]
     },
     "execution_count": 6,
     "metadata": {},
     "output_type": "execute_result"
    }
   ],
   "source": [
    "#système cristallin\n",
    "sga.get_crystal_system()"
   ]
  },
  {
   "cell_type": "code",
   "execution_count": null,
   "id": "569cc7e4",
   "metadata": {},
   "outputs": [],
   "source": []
  }
 ],
 "metadata": {
  "kernelspec": {
   "display_name": "Python 3",
   "language": "python",
   "name": "python3"
  },
  "language_info": {
   "codemirror_mode": {
    "name": "ipython",
    "version": 3
   },
   "file_extension": ".py",
   "mimetype": "text/x-python",
   "name": "python",
   "nbconvert_exporter": "python",
   "pygments_lexer": "ipython3",
   "version": "3.6.8"
  }
 },
 "nbformat": 4,
 "nbformat_minor": 5
}
