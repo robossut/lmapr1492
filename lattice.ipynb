{
 "cells": [
  {
   "cell_type": "code",
   "execution_count": 7,
   "id": "c0787bbb",
   "metadata": {},
   "outputs": [],
   "source": [
    "from pymatgen.core import Lattice,Structure,Molecule\n",
    "from pymatgen.symmetry.analyzer import SpacegroupAnalyzer\n",
    "from pymatgen.ext.matproj import MPRester\n",
    "\n",
    "# Structure for material id\n",
    "structure = Structure.from_file(\"NaLi2Sb.cif\")\n",
    "sga = SpacegroupAnalyzer(structure)"
   ]
  },
  {
   "cell_type": "code",
   "execution_count": 8,
   "id": "0227d9a5",
   "metadata": {},
   "outputs": [
    {
     "data": {
      "text/plain": [
       "Lattice\n",
       "    abc : 4.8420848 4.8420848 4.8420848\n",
       " angles : 59.99999999999999 59.99999999999999 60.00000000000001\n",
       " volume : 80.27534398750797\n",
       "      A : 4.193368444078493 0.0 2.4210424000000006\n",
       "      B : 1.3977894813594978 3.953545683762112 2.4210424000000006\n",
       "      C : 0.0 0.0 4.8420848"
      ]
     },
     "execution_count": 8,
     "metadata": {},
     "output_type": "execute_result"
    }
   ],
   "source": [
    "#Vecteurs du réseau direct\n",
    "structure.lattice"
   ]
  },
  {
   "cell_type": "code",
   "execution_count": 9,
   "id": "0823e22c",
   "metadata": {},
   "outputs": [
    {
     "data": {
      "text/plain": [
       "Lattice\n",
       "    abc : 1.589253245001241 1.589253245001241 1.589253245001241\n",
       " angles : 109.47122063449069 109.47122063449069 109.47122063449069\n",
       " volume : 3.0899925322151085\n",
       "      A : 1.498362328750804 -0.5297510816670804 0.0\n",
       "      B : 0.0 1.589253245001241 0.0\n",
       "      C : -0.7491811643754023 -0.5297510816670804 1.297619840771807"
      ]
     },
     "execution_count": 9,
     "metadata": {},
     "output_type": "execute_result"
    }
   ],
   "source": [
    "#Vecteurs du réseau réciproque\n",
    "structure.lattice.reciprocal_lattice"
   ]
  },
  {
   "cell_type": "code",
   "execution_count": 10,
   "id": "5101d4b1",
   "metadata": {},
   "outputs": [
    {
     "data": {
      "text/plain": [
       "'cubic'"
      ]
     },
     "execution_count": 10,
     "metadata": {},
     "output_type": "execute_result"
    }
   ],
   "source": [
    "#type de maille\n",
    "sga.get_lattice_type()"
   ]
  },
  {
   "cell_type": "code",
   "execution_count": 11,
   "id": "fc78d5f3",
   "metadata": {},
   "outputs": [
    {
     "data": {
      "text/plain": [
       "'m-3m'"
      ]
     },
     "execution_count": 11,
     "metadata": {},
     "output_type": "execute_result"
    }
   ],
   "source": [
    "#groupe ponctuel\n",
    "sga.get_point_group_symbol()"
   ]
  },
  {
   "cell_type": "code",
   "execution_count": 12,
   "id": "6251e46e",
   "metadata": {},
   "outputs": [
    {
     "data": {
      "text/plain": [
       "'cubic'"
      ]
     },
     "execution_count": 12,
     "metadata": {},
     "output_type": "execute_result"
    }
   ],
   "source": [
    "#système cristallin\n",
    "sga.get_crystal_system()"
   ]
  },
  {
   "cell_type": "code",
   "execution_count": null,
   "id": "cff73e7a",
   "metadata": {},
   "outputs": [],
   "source": []
  },
  {
   "cell_type": "code",
   "execution_count": null,
   "id": "a5ca7624",
   "metadata": {},
   "outputs": [],
   "source": []
  }
 ],
 "metadata": {
  "kernelspec": {
   "display_name": "Python 3",
   "language": "python",
   "name": "python3"
  },
  "language_info": {
   "codemirror_mode": {
    "name": "ipython",
    "version": 3
   },
   "file_extension": ".py",
   "mimetype": "text/x-python",
   "name": "python",
   "nbconvert_exporter": "python",
   "pygments_lexer": "ipython3",
   "version": "3.6.8"
  }
 },
 "nbformat": 4,
 "nbformat_minor": 5
}
