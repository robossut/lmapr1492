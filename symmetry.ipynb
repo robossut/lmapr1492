{
 "cells": [
  {
   "cell_type": "code",
   "execution_count": 1,
   "id": "fd60eec7",
   "metadata": {},
   "outputs": [],
   "source": [
    "from pymatgen.core import Lattice, Structure, Molecule\n",
    "from pymatgen.symmetry.analyzer import SpacegroupAnalyzer\n",
    "from jupyter_jsmol import JsmolView\n",
    "from ipywidgets import Layout, widgets, interact\n",
    "from IPython.display import display\n",
    "from jupyter_jsmol.pymatgen import quick_view\n",
    "from pymatgen.ext.matproj import MPRester"
   ]
  },
  {
   "cell_type": "code",
   "execution_count": 2,
   "id": "163e3c0c",
   "metadata": {},
   "outputs": [],
   "source": [
    "from pymatgen.ext.matproj import MPRester\n",
    "from pymatgen.ext.matproj import SpacegroupAnalyzer as sga\n",
    "from pymatgen.core.operations import SymmOp\n",
    "\n",
    "with MPRester(\"TSpOfnCNHrXI8ZzR\") as m:\n",
    "    structure = m.get_structure_by_material_id(\"mp-5077\")\n",
    "    space = sga(structure).get_primitive_standard_structure()\n",
    "    spaceg = sga(space)\n",
    "    spc = sga(spaceg.get_conventional_standard_structure())\n",
    "    # Operations de symmetrie \n",
    "    symm = spc.get_symmetry_operations()"
   ]
  },
  {
   "cell_type": "markdown",
   "id": "9301ef0e",
   "metadata": {},
   "source": [
    "# Rotation du troisieme ordre pour une atome de sodiu"
   ]
  },
  {
   "cell_type": "code",
   "execution_count": 3,
   "id": "1dd69d76",
   "metadata": {},
   "outputs": [
    {
     "name": "stdout",
     "output_type": "stream",
     "text": [
      "The rotation matrix for this third order rotation is  [[-1.  0.  0.]\n",
      " [ 0. -1.  0.]\n",
      " [ 0.  0. -1.]]\n",
      "The translation matrix for this third order rotation is  [0. 0. 0.]\n",
      "The initial coordiantes of this atom are [0,0,0.5] and the coordinates of the atom after this third order rotation are  [ 0.   0.  -0.5]\n"
     ]
    }
   ],
   "source": [
    "rot3 = symm[1]\n",
    "t1 = rot3.operate((0,0,0.5))\n",
    "print(\"Type de symétrie : Rotation de troisieme ordre selon l'axe C3 (-y, x-y, z)\")\n",
    "print(\"The rotation matrix for this third order rotation is \", rot3.rotation_matrix)\n",
    "print(\"The translation matrix for this third order rotation is \", rot3.translation_vector)\n",
    "print(\"The initial coordiantes of this atom are [0,0,0.5] and the coordinates of the atom after this third order rotation are \", t1)"
   ]
  },
  {
   "cell_type": "markdown",
   "id": "bedb4234",
   "metadata": {},
   "source": [
    "# Symmetrie de plan miroir pour un atome de antimoine"
   ]
  },
  {
   "cell_type": "code",
   "execution_count": 6,
   "id": "ceb4a4a4",
   "metadata": {},
   "outputs": [
    {
     "name": "stdout",
     "output_type": "stream",
     "text": [
      "La matrice de rotation:  [[ 0.  1.  0.]\n",
      " [-1.  0.  0.]\n",
      " [ 0.  0. -1.]]\n",
      "La matrice de translation:  [0. 0. 0.]\n",
      "Les coordonnées initiales sont [1,1,0] et les coordonnées apres tranformation sont [ 1. -1.  0.]\n"
     ]
    }
   ],
   "source": [
    "mir1 = symm[3]\n",
    "t2 = mir1.operate((1,1,0))\n",
    "print(\"Type de symétrie : Plan miroir (-y, -x, z)\")\n",
    "print(\"La matrice de rotation: \", mir1.rotation_matrix)\n",
    "print(\"La matrice de translation: \", mir1.translation_vector)\n",
    "print(\"Les coordonnées initiales sont [1,1,0] et les coordonnées apres tranformation sont\", t2)"
   ]
  },
  {
   "cell_type": "markdown",
   "id": "cabdb088",
   "metadata": {},
   "source": [
    "# Symmetrie de plan miroir pour un atome de lithium"
   ]
  },
  {
   "cell_type": "code",
   "execution_count": 7,
   "id": "5acc94c7",
   "metadata": {},
   "outputs": [
    {
     "name": "stdout",
     "output_type": "stream",
     "text": [
      "La matrice de rotation:  [[-1.  0.  0.]\n",
      " [ 0. -1.  0.]\n",
      " [ 0.  0.  1.]]\n",
      "La matrice de translation:  [0. 0. 0.]\n",
      "Les coordonnées initiales sont [0.75,0.25,0.25] et les coordonnées apres tranformation sont [-0.75 -0.25  0.25]\n"
     ]
    }
   ],
   "source": [
    "mir2 = symm[4]\n",
    "t3 = mir2.operate((0.75,0.25,0.25))\n",
    "print(\"Type de symétrie : Plan miroir (-x+y, y, z)\")\n",
    "print(\"La matrice de rotation: \", mir2.rotation_matrix)\n",
    "print(\"La matrice de translation: \", mir2.translation_vector)\n",
    "print(\"Les coordonnées initiales sont [0.75,0.25,0.25] et les coordonnées apres tranformation sont\", t3)"
   ]
  }
 ],
 "metadata": {
  "kernelspec": {
   "display_name": "Python 3",
   "language": "python",
   "name": "python3"
  },
  "language_info": {
   "codemirror_mode": {
    "name": "ipython",
    "version": 3
   },
   "file_extension": ".py",
   "mimetype": "text/x-python",
   "name": "python",
   "nbconvert_exporter": "python",
   "pygments_lexer": "ipython3",
   "version": "3.6.8"
  }
 },
 "nbformat": 4,
 "nbformat_minor": 5
}
